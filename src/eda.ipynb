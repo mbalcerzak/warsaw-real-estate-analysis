{
 "cells": [
  {
   "cell_type": "code",
   "execution_count": 35,
   "source": [
    "import pandas\n",
    "import matplotlib.pyplot as plt\n",
    "import sklearn\n",
    "import random\n",
    "import collections"
   ],
   "outputs": [],
   "metadata": {}
  },
  {
   "cell_type": "code",
   "execution_count": 36,
   "source": [
    "# path = '../data/flats_29August2021.csv'\n",
    "path = '../data/flats_03October.csv'\n",
    "\n",
    "df = pandas.read_csv(path, sep=';')\n",
    "print(df.head())\n",
    "\n",
    "columns = ['price_id', 'flat_id', 'price', 'date', 'ad_id', \\\n",
    "    'title', 'date_posted', 'date_scraped', 'location', 'seller', \\\n",
    "    'property_type', 'num_rooms', 'num_bathrooms', 'flat_area',  \\\n",
    "    'text', 'description', 'photos_links', 'page_address']\n",
    "\n",
    "num_columns = ['price', 'date', \\\n",
    "    'title', 'date_posted', 'date_scraped', 'location', 'seller', \\\n",
    "    'property_type', 'num_rooms', 'num_bathrooms', 'flat_area',  \\\n",
    "    'text', 'description']\n"
   ],
   "outputs": [
    {
     "output_type": "stream",
     "name": "stdout",
     "text": [
      "   price_id    flat_id    price        date      ad_id  \\\n",
      "0         1  247741867  2290000  2021-01-22  247741867   \n",
      "1         2  335769299   690000  2021-01-22  335769299   \n",
      "2         3  426220306   860000  2021-01-26  426220306   \n",
      "3         4  441050757  2157000  2021-01-20  441050757   \n",
      "4         5  468323060   390000  2021-01-18  468323060   \n",
      "\n",
      "                                               title date_posted date_scraped  \\\n",
      "0            Stara Saska Kępa, wyjątkowy apartament   2018-07-01   2021-01-22   \n",
      "1                       Tarchomin - 104m2 - 5 pokoi   2018-10-26   2021-01-22   \n",
      "2  Na sprzedaż, 3 pokoje na Woli przy rondzie ONZ...  2019-02-12   2021-01-26   \n",
      "3                     Apartament w Centrum Warszawy   2019-03-01   2021-01-20   \n",
      "4     Nowa kawalerka do wprowadzenia w chmurach 15p   2019-04-04   2021-01-18   \n",
      "\n",
      "                   location      seller property_type  num_rooms  \\\n",
      "0  Praga Południe, Warszawa     Agencja    Mieszkanie          6   \n",
      "1       Białołęka, Warszawa  Właściciel    Mieszkanie          5   \n",
      "2            Wola, Warszawa     Agencja    Mieszkanie          3   \n",
      "3     Śródmieście, Warszawa     Agencja    Mieszkanie          3   \n",
      "4  Praga Południe, Warszawa  Właściciel    Mieszkanie          1   \n",
      "\n",
      "   num_bathrooms  flat_area   text  \\\n",
      "0              3        176  Garaż   \n",
      "1              2        104  Garaż   \n",
      "2              1         71   Brak   \n",
      "3              2         90   Brak   \n",
      "4              1         26  Garaż   \n",
      "\n",
      "                                         description  \\\n",
      "0  'Nowa oferta - doskonały apartament !!!\\r\\n\\r\\...   \n",
      "1  Mieszkanie 5-pokojowe o pow. 104 m2 (118 m2 li...   \n",
      "2  Na sprzedaż trzypokojowe mieszkanie na 3 piętr...   \n",
      "3  Apartamentowiec położony w wyjątkowym miejscu,...   \n",
      "4  AGENCJE NIERUCHOMOSCI PROSZĘ NIE DZWONIĆ! BEZP...   \n",
      "\n",
      "                                        photos_links  \\\n",
      "0  {'photos_links': ['https://i.ebayimg.com/00/s/...   \n",
      "1  ['https://i.ebayimg.com/00/s/NTMzWDgwMA==/z/n9...   \n",
      "2  ['https://i.ebayimg.com/00/s/NTE5WDc3NA==/z/uv...   \n",
      "3  ['https://i.ebayimg.com/00/s/NTE1WDc3Mw==/z/SE...   \n",
      "4  ['https://i.ebayimg.com/00/s/NjAwWDgwMA==/z/m4...   \n",
      "\n",
      "                                        page_address  \n",
      "0  https://www.gumtree.pl/a-mieszkania-i-domy-spr...  \n",
      "1  https://www.gumtree.pl/a-mieszkania-i-domy-spr...  \n",
      "2  https://www.gumtree.pl/a-mieszkania-i-domy-spr...  \n",
      "3  https://www.gumtree.pl/a-mieszkania-i-domy-spr...  \n",
      "4  https://www.gumtree.pl/a-mieszkania-i-domy-spr...  \n"
     ]
    }
   ],
   "metadata": {}
  },
  {
   "cell_type": "code",
   "execution_count": 37,
   "source": [
    "df = df[num_columns]\n",
    "\n",
    "df = df.loc[df['flat_area'] < 300]\n",
    "df = df.loc[df['price'] < 4500000]"
   ],
   "outputs": [],
   "metadata": {}
  },
  {
   "cell_type": "code",
   "execution_count": 38,
   "source": [
    "plt.hist(df['flat_area'])\n",
    "plt.show()"
   ],
   "outputs": [
    {
     "output_type": "display_data",
     "data": {
      "image/png": "[encoded data removed]",
      "text/plain": [
       "<Figure size 432x288 with 1 Axes>"
      ]
     },
     "metadata": {
      "needs_background": "light"
     }
    }
   ],
   "metadata": {}
  },
  {
   "cell_type": "code",
   "execution_count": 39,
   "source": [
    "plt.hist(df['price'])\n",
    "ax = plt.gca()\n",
    "ax.get_xaxis().get_major_formatter().set_scientific(False)\n",
    "plt.show()"
   ],
   "outputs": [
    {
     "output_type": "display_data",
     "data": {
      "image/png": "[encoded data removed]",
      "text/plain": [
       "<Figure size 432x288 with 1 Axes>"
      ]
     },
     "metadata": {
      "needs_background": "light"
     }
    }
   ],
   "metadata": {}
  },
  {
   "cell_type": "code",
   "execution_count": 40,
   "source": [
    "## How other variables relate with our target variable\n",
    "\n",
    "corr_matrix = df.corr()\n",
    "corr_matrix[\"price\"].sort_values(ascending=False)"
   ],
   "outputs": [
    {
     "output_type": "execute_result",
     "data": {
      "text/plain": [
       "price            1.000000\n",
       "flat_area        0.824480\n",
       "num_rooms        0.579191\n",
       "num_bathrooms    0.337966\n",
       "Name: price, dtype: float64"
      ]
     },
     "metadata": {},
     "execution_count": 40
    }
   ],
   "metadata": {}
  },
  {
   "cell_type": "code",
   "execution_count": null,
   "source": [],
   "outputs": [],
   "metadata": {}
  },
  {
   "cell_type": "markdown",
   "source": [
    "# Patodeweloperka EDA"
   ],
   "metadata": {}
  },
  {
   "cell_type": "code",
   "execution_count": 51,
   "source": [
    "df_small = df.loc[(df['flat_area'] < 27) & (10 < df['flat_area'])]\n",
    "df_small['price_per_m2'] = df_small['price']/df_small['flat_area']\n",
    "len(df_small)"
   ],
   "outputs": [
    {
     "output_type": "stream",
     "name": "stderr",
     "text": [
      "/var/folders/6s/dz8bggdn2cvbxr_txvltwrz00000gn/T/ipykernel_3453/1046365221.py:2: SettingWithCopyWarning: \n",
      "A value is trying to be set on a copy of a slice from a DataFrame.\n",
      "Try using .loc[row_indexer,col_indexer] = value instead\n",
      "\n",
      "See the caveats in the documentation: https://pandas.pydata.org/pandas-docs/stable/user_guide/indexing.html#returning-a-view-versus-a-copy\n",
      "  df_small['price_per_m2'] = df_small['price']/df_small['flat_area']\n"
     ]
    },
    {
     "output_type": "execute_result",
     "data": {
      "text/plain": [
       "17846"
      ]
     },
     "metadata": {},
     "execution_count": 51
    }
   ],
   "metadata": {}
  },
  {
   "cell_type": "code",
   "execution_count": 50,
   "source": [
    "plt.hist(df_small['price'])\n",
    "ax = plt.gca()\n",
    "ax.get_xaxis().get_major_formatter().set_scientific(False)\n",
    "plt.show()"
   ],
   "outputs": [
    {
     "output_type": "display_data",
     "data": {
      "image/png": "[encoded data removed]",
      "text/plain": [
       "<Figure size 432x288 with 1 Axes>"
      ]
     },
     "metadata": {
      "needs_background": "light"
     }
    }
   ],
   "metadata": {}
  },
  {
   "cell_type": "code",
   "execution_count": 52,
   "source": [
    "plt.hist(df_small['price_per_m2'])\n",
    "ax = plt.gca()\n",
    "ax.get_xaxis().get_major_formatter().set_scientific(False)\n",
    "plt.show()"
   ],
   "outputs": [
    {
     "output_type": "display_data",
     "data": {
      "image/png": "[encoded data removed]",
      "text/plain": [
       "<Figure size 432x288 with 1 Axes>"
      ]
     },
     "metadata": {
      "needs_background": "light"
     }
    }
   ],
   "metadata": {}
  },
  {
   "cell_type": "code",
   "execution_count": 43,
   "source": [
    "from collections import Counter\n",
    "from spacy.lang.pl.stop_words import STOP_WORDS"
   ],
   "outputs": [],
   "metadata": {}
  },
  {
   "cell_type": "code",
   "execution_count": 54,
   "source": [
    "small_descriptions = []\n",
    "for desc in df_small['description']:\n",
    "    desc = [x.lower() for x  in desc.split()]\n",
    "    small_descriptions +=  desc\n",
    "\n",
    "to_replace = r'0123456789.,/\\:;-=!@#$%^&*()_+[]{}|'\n",
    "\n",
    "desc_clean = []\n",
    "\n",
    "for token in small_descriptions:\n",
    "    for repl in list(to_replace):\n",
    "        token = token.replace(repl, ' ').strip()\n",
    "\n",
    "    if token not in STOP_WORDS:\n",
    "        desc_clean.append(token)\n",
    "\n",
    "c = Counter(desc_clean)\n",
    "# print(c.most_common)"
   ],
   "outputs": [],
   "metadata": {}
  },
  {
   "cell_type": "markdown",
   "source": [
    "# NLP"
   ],
   "metadata": {}
  },
  {
   "cell_type": "code",
   "execution_count": 45,
   "source": [
    "import spacy\n",
    "import pl_core_news_lg\n",
    "\n",
    "nlp = pl_core_news_lg.load()\n",
    "\n"
   ],
   "outputs": [],
   "metadata": {}
  },
  {
   "cell_type": "code",
   "execution_count": 57,
   "source": [
    "from sklearn.model_selection import train_test_split\n",
    "\n",
    "\n",
    "train_set, test_set= train_test_split(df, test_size=0.2, random_state=42)\n",
    "# Decision Tree baseline\n",
    "# KNN Regression\n",
    "# Random Forest Regression\n",
    "\n",
    "print(train_set.head())"
   ],
   "outputs": [
    {
     "output_type": "stream",
     "name": "stdout",
     "text": [
      "          price        date  \\\n",
      "6952     520000  2021-01-21   \n",
      "126307   799000  2021-03-18   \n",
      "115055  1630000  2021-03-14   \n",
      "122932   998000  2021-03-17   \n",
      "138941   650000  2021-03-24   \n",
      "\n",
      "                                                    title date_posted  \\\n",
      "6952            3 pokoje, Praga-Południe ul Dwernickiego   2021-01-21   \n",
      "126307               4 pokoje Praga Południe ul. Igańska   2021-03-18   \n",
      "115055             Apartament 110m + taras 60m2 ! OKAZJA   2021-03-14   \n",
      "122932  Mieszkanie Warszawa Śródmieście 60m2 (nr: HH-M...  2021-03-17   \n",
      "138941  Mieszkanie Warszawa Wilanów 51.04m2 (nr: M-971...  2021-03-24   \n",
      "\n",
      "       date_scraped                  location   seller property_type  \\\n",
      "6952     2021-01-21  Praga Południe, Warszawa  Agencja    Mieszkanie   \n",
      "126307   2021-03-18  Praga Południe, Warszawa  Agencja    Mieszkanie   \n",
      "115055   2021-03-14     Śródmieście, Warszawa  Agencja    Mieszkanie   \n",
      "122932   2021-03-17     Śródmieście, Warszawa  Agencja    Mieszkanie   \n",
      "138941   2021-03-24         Wilanów, Warszawa  Agencja    Mieszkanie   \n",
      "\n",
      "        num_rooms  num_bathrooms  flat_area  text  \\\n",
      "6952            3              1         52  Brak   \n",
      "126307          4              1         84  Brak   \n",
      "115055          5              1        109  Brak   \n",
      "122932          3              1         60  Brak   \n",
      "138941          2              1         52  Brak   \n",
      "\n",
      "                                              description  \n",
      "6952    Do sprzedania:\\n\\nMieszkanie zlokalizowane na ...  \n",
      "126307  Do sprzedania:\\n4 pokojowe mieszkanie zlokaliz...  \n",
      "115055  SPRZEDAŻ BEZPOŚREDNIA - BEZ PROWIZJIWyjątkowy ...  \n",
      "122932  Hampton Home prezentuje unikatowe mieszkanie 3...  \n",
      "138941  2 pokojowe mieszkanie w miasteczku Wilanów z b...  \n"
     ]
    }
   ],
   "metadata": {}
  },
  {
   "cell_type": "code",
   "execution_count": 56,
   "source": [
    "from sklearn.tree import DecisionTreeRegressor\n",
    "\n",
    "regressor = DecisionTreeRegressor(random_state=0)\n",
    "\n",
    "regressor.fit(train_set, test_set)\n"
   ],
   "outputs": [
    {
     "output_type": "error",
     "ename": "ValueError",
     "evalue": "could not convert string to float: '2021-01-21'",
     "traceback": [
      "\u001b[0;31m---------------------------------------------------------------------------\u001b[0m",
      "\u001b[0;31mValueError\u001b[0m                                Traceback (most recent call last)",
      "\u001b[0;32m/var/folders/6s/dz8bggdn2cvbxr_txvltwrz00000gn/T/ipykernel_3453/4161276917.py\u001b[0m in \u001b[0;36m<module>\u001b[0;34m\u001b[0m\n\u001b[1;32m      3\u001b[0m \u001b[0mregressor\u001b[0m \u001b[0;34m=\u001b[0m \u001b[0mDecisionTreeRegressor\u001b[0m\u001b[0;34m(\u001b[0m\u001b[0mrandom_state\u001b[0m\u001b[0;34m=\u001b[0m\u001b[0;36m0\u001b[0m\u001b[0;34m)\u001b[0m\u001b[0;34m\u001b[0m\u001b[0;34m\u001b[0m\u001b[0m\n\u001b[1;32m      4\u001b[0m \u001b[0;34m\u001b[0m\u001b[0m\n\u001b[0;32m----> 5\u001b[0;31m \u001b[0mregressor\u001b[0m\u001b[0;34m.\u001b[0m\u001b[0mfit\u001b[0m\u001b[0;34m(\u001b[0m\u001b[0mtrain_set\u001b[0m\u001b[0;34m,\u001b[0m \u001b[0mtest_set\u001b[0m\u001b[0;34m)\u001b[0m\u001b[0;34m\u001b[0m\u001b[0;34m\u001b[0m\u001b[0m\n\u001b[0m",
      "\u001b[0;32m~/Documents/projects/warsaw-real-estate-analysis/venv/lib/python3.9/site-packages/sklearn/tree/_classes.py\u001b[0m in \u001b[0;36mfit\u001b[0;34m(self, X, y, sample_weight, check_input, X_idx_sorted)\u001b[0m\n\u001b[1;32m   1250\u001b[0m         \"\"\"\n\u001b[1;32m   1251\u001b[0m \u001b[0;34m\u001b[0m\u001b[0m\n\u001b[0;32m-> 1252\u001b[0;31m         super().fit(\n\u001b[0m\u001b[1;32m   1253\u001b[0m             \u001b[0mX\u001b[0m\u001b[0;34m,\u001b[0m \u001b[0my\u001b[0m\u001b[0;34m,\u001b[0m\u001b[0;34m\u001b[0m\u001b[0;34m\u001b[0m\u001b[0m\n\u001b[1;32m   1254\u001b[0m             \u001b[0msample_weight\u001b[0m\u001b[0;34m=\u001b[0m\u001b[0msample_weight\u001b[0m\u001b[0;34m,\u001b[0m\u001b[0;34m\u001b[0m\u001b[0;34m\u001b[0m\u001b[0m\n",
      "\u001b[0;32m~/Documents/projects/warsaw-real-estate-analysis/venv/lib/python3.9/site-packages/sklearn/tree/_classes.py\u001b[0m in \u001b[0;36mfit\u001b[0;34m(self, X, y, sample_weight, check_input, X_idx_sorted)\u001b[0m\n\u001b[1;32m    155\u001b[0m             \u001b[0mcheck_X_params\u001b[0m \u001b[0;34m=\u001b[0m \u001b[0mdict\u001b[0m\u001b[0;34m(\u001b[0m\u001b[0mdtype\u001b[0m\u001b[0;34m=\u001b[0m\u001b[0mDTYPE\u001b[0m\u001b[0;34m,\u001b[0m \u001b[0maccept_sparse\u001b[0m\u001b[0;34m=\u001b[0m\u001b[0;34m\"csc\"\u001b[0m\u001b[0;34m)\u001b[0m\u001b[0;34m\u001b[0m\u001b[0;34m\u001b[0m\u001b[0m\n\u001b[1;32m    156\u001b[0m             \u001b[0mcheck_y_params\u001b[0m \u001b[0;34m=\u001b[0m \u001b[0mdict\u001b[0m\u001b[0;34m(\u001b[0m\u001b[0mensure_2d\u001b[0m\u001b[0;34m=\u001b[0m\u001b[0;32mFalse\u001b[0m\u001b[0;34m,\u001b[0m \u001b[0mdtype\u001b[0m\u001b[0;34m=\u001b[0m\u001b[0;32mNone\u001b[0m\u001b[0;34m)\u001b[0m\u001b[0;34m\u001b[0m\u001b[0;34m\u001b[0m\u001b[0m\n\u001b[0;32m--> 157\u001b[0;31m             X, y = self._validate_data(X, y,\n\u001b[0m\u001b[1;32m    158\u001b[0m                                        validate_separately=(check_X_params,\n\u001b[1;32m    159\u001b[0m                                                             check_y_params))\n",
      "\u001b[0;32m~/Documents/projects/warsaw-real-estate-analysis/venv/lib/python3.9/site-packages/sklearn/base.py\u001b[0m in \u001b[0;36m_validate_data\u001b[0;34m(self, X, y, reset, validate_separately, **check_params)\u001b[0m\n\u001b[1;32m    428\u001b[0m                 \u001b[0;31m# :(\u001b[0m\u001b[0;34m\u001b[0m\u001b[0;34m\u001b[0m\u001b[0;34m\u001b[0m\u001b[0m\n\u001b[1;32m    429\u001b[0m                 \u001b[0mcheck_X_params\u001b[0m\u001b[0;34m,\u001b[0m \u001b[0mcheck_y_params\u001b[0m \u001b[0;34m=\u001b[0m \u001b[0mvalidate_separately\u001b[0m\u001b[0;34m\u001b[0m\u001b[0;34m\u001b[0m\u001b[0m\n\u001b[0;32m--> 430\u001b[0;31m                 \u001b[0mX\u001b[0m \u001b[0;34m=\u001b[0m \u001b[0mcheck_array\u001b[0m\u001b[0;34m(\u001b[0m\u001b[0mX\u001b[0m\u001b[0;34m,\u001b[0m \u001b[0;34m**\u001b[0m\u001b[0mcheck_X_params\u001b[0m\u001b[0;34m)\u001b[0m\u001b[0;34m\u001b[0m\u001b[0;34m\u001b[0m\u001b[0m\n\u001b[0m\u001b[1;32m    431\u001b[0m                 \u001b[0my\u001b[0m \u001b[0;34m=\u001b[0m \u001b[0mcheck_array\u001b[0m\u001b[0;34m(\u001b[0m\u001b[0my\u001b[0m\u001b[0;34m,\u001b[0m \u001b[0;34m**\u001b[0m\u001b[0mcheck_y_params\u001b[0m\u001b[0;34m)\u001b[0m\u001b[0;34m\u001b[0m\u001b[0;34m\u001b[0m\u001b[0m\n\u001b[1;32m    432\u001b[0m             \u001b[0;32melse\u001b[0m\u001b[0;34m:\u001b[0m\u001b[0;34m\u001b[0m\u001b[0;34m\u001b[0m\u001b[0m\n",
      "\u001b[0;32m~/Documents/projects/warsaw-real-estate-analysis/venv/lib/python3.9/site-packages/sklearn/utils/validation.py\u001b[0m in \u001b[0;36minner_f\u001b[0;34m(*args, **kwargs)\u001b[0m\n\u001b[1;32m     61\u001b[0m             \u001b[0mextra_args\u001b[0m \u001b[0;34m=\u001b[0m \u001b[0mlen\u001b[0m\u001b[0;34m(\u001b[0m\u001b[0margs\u001b[0m\u001b[0;34m)\u001b[0m \u001b[0;34m-\u001b[0m \u001b[0mlen\u001b[0m\u001b[0;34m(\u001b[0m\u001b[0mall_args\u001b[0m\u001b[0;34m)\u001b[0m\u001b[0;34m\u001b[0m\u001b[0;34m\u001b[0m\u001b[0m\n\u001b[1;32m     62\u001b[0m             \u001b[0;32mif\u001b[0m \u001b[0mextra_args\u001b[0m \u001b[0;34m<=\u001b[0m \u001b[0;36m0\u001b[0m\u001b[0;34m:\u001b[0m\u001b[0;34m\u001b[0m\u001b[0;34m\u001b[0m\u001b[0m\n\u001b[0;32m---> 63\u001b[0;31m                 \u001b[0;32mreturn\u001b[0m \u001b[0mf\u001b[0m\u001b[0;34m(\u001b[0m\u001b[0;34m*\u001b[0m\u001b[0margs\u001b[0m\u001b[0;34m,\u001b[0m \u001b[0;34m**\u001b[0m\u001b[0mkwargs\u001b[0m\u001b[0;34m)\u001b[0m\u001b[0;34m\u001b[0m\u001b[0;34m\u001b[0m\u001b[0m\n\u001b[0m\u001b[1;32m     64\u001b[0m \u001b[0;34m\u001b[0m\u001b[0m\n\u001b[1;32m     65\u001b[0m             \u001b[0;31m# extra_args > 0\u001b[0m\u001b[0;34m\u001b[0m\u001b[0;34m\u001b[0m\u001b[0;34m\u001b[0m\u001b[0m\n",
      "\u001b[0;32m~/Documents/projects/warsaw-real-estate-analysis/venv/lib/python3.9/site-packages/sklearn/utils/validation.py\u001b[0m in \u001b[0;36mcheck_array\u001b[0;34m(array, accept_sparse, accept_large_sparse, dtype, order, copy, force_all_finite, ensure_2d, allow_nd, ensure_min_samples, ensure_min_features, estimator)\u001b[0m\n\u001b[1;32m    671\u001b[0m                     \u001b[0marray\u001b[0m \u001b[0;34m=\u001b[0m \u001b[0marray\u001b[0m\u001b[0;34m.\u001b[0m\u001b[0mastype\u001b[0m\u001b[0;34m(\u001b[0m\u001b[0mdtype\u001b[0m\u001b[0;34m,\u001b[0m \u001b[0mcasting\u001b[0m\u001b[0;34m=\u001b[0m\u001b[0;34m\"unsafe\"\u001b[0m\u001b[0;34m,\u001b[0m \u001b[0mcopy\u001b[0m\u001b[0;34m=\u001b[0m\u001b[0;32mFalse\u001b[0m\u001b[0;34m)\u001b[0m\u001b[0;34m\u001b[0m\u001b[0;34m\u001b[0m\u001b[0m\n\u001b[1;32m    672\u001b[0m                 \u001b[0;32melse\u001b[0m\u001b[0;34m:\u001b[0m\u001b[0;34m\u001b[0m\u001b[0;34m\u001b[0m\u001b[0m\n\u001b[0;32m--> 673\u001b[0;31m                     \u001b[0marray\u001b[0m \u001b[0;34m=\u001b[0m \u001b[0mnp\u001b[0m\u001b[0;34m.\u001b[0m\u001b[0masarray\u001b[0m\u001b[0;34m(\u001b[0m\u001b[0marray\u001b[0m\u001b[0;34m,\u001b[0m \u001b[0morder\u001b[0m\u001b[0;34m=\u001b[0m\u001b[0morder\u001b[0m\u001b[0;34m,\u001b[0m \u001b[0mdtype\u001b[0m\u001b[0;34m=\u001b[0m\u001b[0mdtype\u001b[0m\u001b[0;34m)\u001b[0m\u001b[0;34m\u001b[0m\u001b[0;34m\u001b[0m\u001b[0m\n\u001b[0m\u001b[1;32m    674\u001b[0m             \u001b[0;32mexcept\u001b[0m \u001b[0mComplexWarning\u001b[0m \u001b[0;32mas\u001b[0m \u001b[0mcomplex_warning\u001b[0m\u001b[0;34m:\u001b[0m\u001b[0;34m\u001b[0m\u001b[0;34m\u001b[0m\u001b[0m\n\u001b[1;32m    675\u001b[0m                 raise ValueError(\"Complex data not supported\\n\"\n",
      "\u001b[0;32m~/Documents/projects/warsaw-real-estate-analysis/venv/lib/python3.9/site-packages/pandas/core/generic.py\u001b[0m in \u001b[0;36m__array__\u001b[0;34m(self, dtype)\u001b[0m\n\u001b[1;32m   1991\u001b[0m \u001b[0;34m\u001b[0m\u001b[0m\n\u001b[1;32m   1992\u001b[0m     \u001b[0;32mdef\u001b[0m \u001b[0m__array__\u001b[0m\u001b[0;34m(\u001b[0m\u001b[0mself\u001b[0m\u001b[0;34m,\u001b[0m \u001b[0mdtype\u001b[0m\u001b[0;34m:\u001b[0m \u001b[0mNpDtype\u001b[0m \u001b[0;34m|\u001b[0m \u001b[0;32mNone\u001b[0m \u001b[0;34m=\u001b[0m \u001b[0;32mNone\u001b[0m\u001b[0;34m)\u001b[0m \u001b[0;34m->\u001b[0m \u001b[0mnp\u001b[0m\u001b[0;34m.\u001b[0m\u001b[0mndarray\u001b[0m\u001b[0;34m:\u001b[0m\u001b[0;34m\u001b[0m\u001b[0;34m\u001b[0m\u001b[0m\n\u001b[0;32m-> 1993\u001b[0;31m         \u001b[0;32mreturn\u001b[0m \u001b[0mnp\u001b[0m\u001b[0;34m.\u001b[0m\u001b[0masarray\u001b[0m\u001b[0;34m(\u001b[0m\u001b[0mself\u001b[0m\u001b[0;34m.\u001b[0m\u001b[0m_values\u001b[0m\u001b[0;34m,\u001b[0m \u001b[0mdtype\u001b[0m\u001b[0;34m=\u001b[0m\u001b[0mdtype\u001b[0m\u001b[0;34m)\u001b[0m\u001b[0;34m\u001b[0m\u001b[0;34m\u001b[0m\u001b[0m\n\u001b[0m\u001b[1;32m   1994\u001b[0m \u001b[0;34m\u001b[0m\u001b[0m\n\u001b[1;32m   1995\u001b[0m     def __array_wrap__(\n",
      "\u001b[0;31mValueError\u001b[0m: could not convert string to float: '2021-01-21'"
     ]
    }
   ],
   "metadata": {}
  },
  {
   "cell_type": "code",
   "execution_count": null,
   "source": [],
   "outputs": [],
   "metadata": {}
  }
 ],
 "metadata": {
  "orig_nbformat": 4,
  "language_info": {
   "name": "python",
   "version": "3.9.6",
   "mimetype": "text/x-python",
   "codemirror_mode": {
    "name": "ipython",
    "version": 3
   },
   "pygments_lexer": "ipython3",
   "nbconvert_exporter": "python",
   "file_extension": ".py"
  },
  "kernelspec": {
   "name": "python3",
   "display_name": "Python 3.9.6 64-bit ('venv': venv)"
  },
  "interpreter": {
   "hash": "67d4356db97b32f6b5ce540722b64a68035df5829966fcf9701b23ce43dc1103"
  }
 },
 "nbformat": 4,
 "nbformat_minor": 2
}