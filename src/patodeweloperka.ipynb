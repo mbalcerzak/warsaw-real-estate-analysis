{
 "cells": [
  {
   "cell_type": "code",
   "execution_count": 15,
   "metadata": {},
   "outputs": [],
   "source": [
    "import pandas as pd\n",
    "import matplotlib.pyplot as plt\n",
    "import sqlite3"
   ]
  },
  {
   "cell_type": "code",
   "execution_count": 16,
   "metadata": {},
   "outputs": [
    {
     "name": "stdout",
     "output_type": "stream",
     "text": [
      "\n",
      "\tNew ads overall: 45220\n",
      "   price_id  flat_id   price        date  flat_id                      ad_id  \\\n",
      "0         5        4  390000  2021-01-18        4  1004683230600910484697409   \n",
      "1        35       33  273700  2021-01-18       33  1007105444610910554581809   \n",
      "\n",
      "                                            title date_posted date_scraped  \\\n",
      "0  Nowa kawalerka do wprowadzenia w chmurach 15p   2019-04-04   2021-01-18   \n",
      "1          Rondo Wiatraczna, mieszkanie 23,8 m2    2020-03-17   2021-01-18   \n",
      "\n",
      "                   location      seller property_type  num_rooms  \\\n",
      "0  Praga Południe, Warszawa  Właściciel    Mieszkanie          1   \n",
      "1  Praga Południe, Warszawa     Agencja    Mieszkanie          1   \n",
      "\n",
      "   num_bathrooms  flat_area   text  \\\n",
      "0              1         26  Garaż   \n",
      "1              1         24   Brak   \n",
      "\n",
      "                                                                                                                                                                                                                                                                                                                                                                                                                                                                                                                                                                                                                                                                                                                                                                                                                                                                                          description  \\\n",
      "0                                                                       AGENCJE NIERUCHOMOSCI PROSZĘ NIE DZWONIĆ! BEZPOŚREDNIO MIESZKANIE DO ZAMIESZKANIA! Mieszkanie z balkonem i panoramicznym widokiem z 15 piętra (ekspozycja południowa) z osobną kuchnią. Rok budowy 2018, budynek z ochroną, monitoringiem, wejściami na chip i dwiema szybkimi windami. Mieszkanie jest klimatyczne składa się z przedpokoju, pokoju, kuchni i łazienki z toaletą.\\r\\nW cenie mieszkania jest całe jego umeblowanie i wyposażenie (AGD, RTV). \\r\\nPralka, zmywarka, lodówka etc.\\r\\n\\r\\n\\r\\nMiejsce postojowe dostępne na zamkniętym osiedlu dla wszystkich mieszkańców.\\r\\n\\r\\n\\r\\nCzynsz miesięczny za mieszkanie na poziomie ok 220zł. Własność gruntu.\\r\\nObok McDonald's i Galeria handlowa Promenada.\\r\\nOkoło 15 min autobusem do centrum.\\r\\nBezpośrednio, bez agencji!!!\\r\\n\\r\\n\\r\\n\\r\\n\\r\\n\\r\\n\\r\\n   \n",
      "1  Warszawa, Praga Południe, okolice Rondo Wiatraczna/ Bazar Szembeka ,Mieszkanie nr 12,  23,8 m2  na 3 piętrze, cena za stan deweloperski 11 500 PLN za m2. Kameralna kamienica, 22 mieszkania, budynek z 1964r. Okolica bardzo cicha, trzecia linia zabudowań od ul.Grochowskiej, Świetne położenie komunikacyjne, wszędzie blisko, tramwaj, autobus, ( SKM Olszynka Grochowska 10 minut) istnieje możliwość oddania mieszkania wykończonego, szczegóły i koszt do ustalenia.Termin oddania budynku do użytku III kw. 2020r.W tej lokalizacji mamy w ofercie 22 mieszkania.ZapraszamyKancelaria Goldhaus & Partnerzy, tel. do biura 22 6225239 ; nr licencji 10623 kontakt bezpośredni: 532 332 252Szanowni Klienci, jesteśmy Licencjonowaną Agencją Nieruchomości i pobieramy prowizję za pośrednictwo w obrocie nieruchomościami, przy sprzedaży i zakupie 2,5% (brutto) wartości nieruchomości,    \n",
      "\n",
      "                                                                                                                                                                                                                                                                                                                                                                                                                                                                                                                                                                                                                                                                                                                                                                                                                                                                           photos_links  \\\n",
      "0  ['https://i.ebayimg.com/00/s/NjAwWDgwMA==/z/m4MAAOSw-FVcpgk~/$_20.JPG', 'https://i.ebayimg.com/00/s/NjAwWDgwMA==/z/fEgAAOSwbS1cpglI/$_20.JPG', 'https://i.ebayimg.com/00/s/ODAwWDYwMA==/z/3KMAAOSw57xcpglS/$_20.JPG', 'https://i.ebayimg.com/00/s/ODAwWDYwMA==/z/kt4AAOSwFCddEfON/$_20.JPG', 'https://i.ebayimg.com/00/s/ODAwWDYwMA==/z/OjgAAOSwn2pcpgl6/$_20.JPG', 'https://i.ebayimg.com/00/s/ODAwWDYwMA==/z/2zkAAOSwmrpcpgl1/$_20.JPG', 'https://i.ebayimg.com/00/s/ODAwWDYwMA==/z/n34AAOSwxCBcpgmF/$_20.JPG', 'https://i.ebayimg.com/00/s/ODAwWDYwMA==/z/uNwAAOSwG8ZcpgmK/$_20.JPG', 'https://i.ebayimg.com/00/s/ODAwWDYwMA==/z/DuIAAOSw4OBdEfOe/$_20.JPG', 'https://i.ebayimg.com/00/s/ODAwWDYwMA==/z/tdYAAOSwo-5cpgmX/$_20.JPG', 'https://i.ebayimg.com/00/s/ODAwWDY5Ng==/z/qm4AAOSw78xcpgm3/$_20.JPG', 'https://i.ebayimg.com/00/s/ODAwWDYyMg==/z/wtwAAOSwf6Fcpgmz/$_20.JPG']   \n",
      "1                                                                                                                                                                                                                                                                                                                                                                                                                                                                                                                                                                                                                                                                                                                                        ['https://i.ebayimg.com/00/s/NTM2WDQ2Mg==/z/ANoAAOSwcpVecKma/$_20.JPG', 'https://i.ebayimg.com/00/s/NTcxWDgwMA==/z/glAAAOSwlcZecKmH/$_20.JPG']   \n",
      "\n",
      "                                                                                                                                         page_address  \n",
      "0  https://www.gumtree.pl/a-mieszkania-i-domy-sprzedam-i-kupie/praga-poludnie/nowa-kawalerka-do-wprowadzenia-w-chmurach-15p/1004683230600910484697409  \n",
      "1            https://www.gumtree.pl/a-mieszkania-i-domy-sprzedam-i-kupie/praga-poludnie/rondo-wiatraczna-mieszkanie-23-8-m2/1007105444610910554581809  \n"
     ]
    }
   ],
   "source": [
    "try:\n",
    "    conn = sqlite3.connect('../data_raw/flats_14November2021.db')\n",
    "    cursor = conn.cursor()\n",
    "\n",
    "    cursor.execute(f\"SELECT count(*) FROM flats WHERE flat_area < 32 and flat_area > 0\")\n",
    "    all_ads = cursor.fetchone()[0]\n",
    "    print(f\"\\n\\tNew ads overall: {all_ads}\")\n",
    "\n",
    "    sql_query = pd.read_sql_query('''SELECT * FROM prices LEFT JOIN flats ON prices.flat_id = flats.flat_id WHERE flat_area < 32 and flat_area > 0''', conn)\n",
    "\n",
    "    df = pd.DataFrame(sql_query)\n",
    "    print(df.head(2))\n",
    "\n",
    "except sqlite3.Error as e:\n",
    "    raise Exception\n"
   ]
  },
  {
   "cell_type": "code",
   "execution_count": 17,
   "metadata": {},
   "outputs": [],
   "source": [
    "columns = ['price_id', 'flat_id', 'price', 'date', 'ad_id', \\\n",
    "    'title', 'date_posted', 'date_scraped', 'location', 'seller', \\\n",
    "    'property_type', 'num_rooms', 'num_bathrooms', 'flat_area',  \\\n",
    "    'text', 'description', 'photos_links', 'page_address']\n",
    "\n",
    "num_columns = ['price', 'date', \\\n",
    "    'title', 'date_posted', 'date_scraped', 'location', 'seller', \\\n",
    "    'property_type', 'num_rooms', 'num_bathrooms', 'flat_area',  \\\n",
    "    'text', 'description']"
   ]
  },
  {
   "cell_type": "code",
   "execution_count": 18,
   "metadata": {},
   "outputs": [],
   "source": [
    "# df = df[num_columns]"
   ]
  },
  {
   "cell_type": "code",
   "execution_count": 19,
   "metadata": {},
   "outputs": [
    {
     "data": {
      "image/png": "[encoded data removed]",
      "text/plain": [
       "<Figure size 432x288 with 1 Axes>"
      ]
     },
     "metadata": {
      "needs_background": "light"
     },
     "output_type": "display_data"
    }
   ],
   "source": [
    "plt.hist(df['flat_area'])\n",
    "plt.show()"
   ]
  },
  {
   "cell_type": "code",
   "execution_count": 20,
   "metadata": {},
   "outputs": [
    {
     "data": {
      "image/png": "[encoded data removed]",
      "text/plain": [
       "<Figure size 432x288 with 1 Axes>"
      ]
     },
     "metadata": {
      "needs_background": "light"
     },
     "output_type": "display_data"
    }
   ],
   "source": [
    "plt.hist(df['num_rooms'])\n",
    "plt.show()"
   ]
  },
  {
   "cell_type": "code",
   "execution_count": 21,
   "metadata": {},
   "outputs": [
    {
     "data": {
      "text/plain": [
       "<AxesSubplot:ylabel='None'>"
      ]
     },
     "execution_count": 21,
     "metadata": {},
     "output_type": "execute_result"
    },
    {
     "data": {
      "image/png": "[encoded data removed]",
      "text/plain": [
       "<Figure size 432x288 with 1 Axes>"
      ]
     },
     "metadata": {},
     "output_type": "display_data"
    }
   ],
   "source": [
    "df.groupby('seller').size().plot(kind='pie', autopct='%.2f')"
   ]
  },
  {
   "cell_type": "code",
   "execution_count": 22,
   "metadata": {},
   "outputs": [
    {
     "data": {
      "image/png": "[encoded data removed]",
      "text/plain": [
       "<Figure size 432x288 with 1 Axes>"
      ]
     },
     "metadata": {
      "needs_background": "light"
     },
     "output_type": "display_data"
    }
   ],
   "source": [
    "plt.hist(df['price'])\n",
    "ax = plt.gca()\n",
    "ax.get_xaxis().get_major_formatter().set_scientific(False)\n",
    "plt.show()\n",
    "\n"
   ]
  },
  {
   "cell_type": "code",
   "execution_count": 23,
   "metadata": {},
   "outputs": [
    {
     "data": {
      "text/plain": [
       "price            1.000000\n",
       "flat_area        0.503122\n",
       "num_rooms        0.156203\n",
       "flat_id          0.152688\n",
       "flat_id          0.152688\n",
       "price_id         0.152532\n",
       "num_bathrooms   -0.039288\n",
       "Name: price, dtype: float64"
      ]
     },
     "execution_count": 23,
     "metadata": {},
     "output_type": "execute_result"
    }
   ],
   "source": [
    "## How other variables relate with our target variable\n",
    "\n",
    "corr_matrix = df.corr()\n",
    "corr_matrix[\"price\"].sort_values(ascending=False)"
   ]
  },
  {
   "cell_type": "code",
   "execution_count": 24,
   "metadata": {},
   "outputs": [
    {
     "name": "stdout",
     "output_type": "stream",
     "text": [
      "7500000\n",
      "      price_id  flat_id    price        date  flat_id  \\\n",
      "8592     67305    66468  7500000  2021-02-23    66468   \n",
      "\n",
      "                          ad_id                                 title  \\\n",
      "8592  1008936281730912794838909  APARTAMENT W SAMYM SERCU WARSZAWY !    \n",
      "\n",
      "     date_posted date_scraped               location      seller  \\\n",
      "8592  2021-02-23   2021-02-23  Śródmieście, Warszawa  Właściciel   \n",
      "\n",
      "     property_type  num_rooms  num_bathrooms  flat_area   text  \\\n",
      "8592    Mieszkanie          1              1         28  Ulica   \n",
      "\n",
      "                                                                                                                                                                                                                                                                                                                                                                                                                                                                                                                                                                                                                                                                                                                                                                                     description  \\\n",
      "8592  \\nOferuję do sprzedaży apartament w znakomitej lokalizacji, położony u zbiegu ulic Świętokrzyskiej i Emilii Plater.Ścisłe\\r\\n centrum, przy Pałacu Kultury i Nauki - tuż przy stacji metra \\r\\nŚwiętokrzyska i Rondo ONZ, doskonale skomunikowane: metro, autobusy, \\r\\ntramwaje, pociągi (Dworzec Śródmieście, Dworzec Centralny).W najbliższym położeniu: sklepy, siłownie, restauracje, centrum handlowe Złote Tarasy.Apartament znajduje się na 1 piętrze 13 piętrowego budynku, z windą. Apartament ma powierzchnię około 28 m2. Składa się z salonu z aneksem kuchennym, wnęką sypialnianą oraz łazienką.Mieszkanie posiada ogromny potencjał aranżacyjny. Wykończone, gotowe do zamieszkania.Idealne na cele inwestycyjne, jak najem krótko i długoterminowy.POŚREDNIKOM DZIĘKUJĘ.    \n",
      "\n",
      "                                                                                                                                                                                                                                                                                                                                                                                                                                                                                                                                                                                                                                                         photos_links  \\\n",
      "8592  ['https://i.ebayimg.com/00/s/NTM0WDgwMA==/z/cA0AAOSwfYNgNOIO/$_20.JPG', 'https://i.ebayimg.com/00/s/NTAwWDgwMA==/z/ebgAAOSwHOZgNOIb/$_20.JPG', 'https://i.ebayimg.com/00/s/NTMzWDgwMA==/z/V2cAAOSwRVpgNOIh/$_20.JPG', 'https://i.ebayimg.com/00/s/NTM0WDgwMA==/z/eMoAAOSwDSBgNOIr/$_20.JPG', 'https://i.ebayimg.com/00/s/NTAwWDgwMA==/z/nKkAAOSwpJNgNOIy/$_20.JPG', 'https://i.ebayimg.com/00/s/NjAwWDgwMA==/z/CTYAAOSwGXNgNOJF/$_20.JPG', 'https://i.ebayimg.com/00/s/NTAwWDgwMA==/z/dZIAAOSwEelgNOJL/$_20.JPG', 'https://i.ebayimg.com/00/s/NTUwWDgwMA==/z/wkoAAOSws09gNOJP/$_20.JPG', 'https://i.ebayimg.com/00/s/NjM0WDUwMg==/z/QJIAAOSwtmVgNOJd/$_20.JPG']   \n",
      "\n",
      "                                                                                                                             page_address  \n",
      "8592  https://www.gumtree.pl/a-mieszkania-i-domy-sprzedam-i-kupie/srodmiescie/apartament-w-samym-sercu-warszawy/1008936281730912794838909  \n",
      "8592    https://www.gumtree.pl/a-mieszkania-i-domy-sprzedam-i-kupie/srodmiescie/apartament-w-samym-sercu-warszawy/1008936281730912794838909\n",
      "Name: page_address, dtype: object\n"
     ]
    }
   ],
   "source": [
    "max_price = max(df['price'])\n",
    "print(max_price)\n",
    "\n",
    "pd.set_option('display.max_colwidth', None)\n",
    "max_price_df = df[df['price'] == max_price]\n",
    "\n",
    "print(max_price_df)\n",
    "print(max_price_df['page_address'])"
   ]
  },
  {
   "cell_type": "markdown",
   "metadata": {},
   "source": [
    "# Patodeweloperka EDA"
   ]
  },
  {
   "cell_type": "code",
   "execution_count": 25,
   "metadata": {},
   "outputs": [
    {
     "data": {
      "text/plain": [
       "45539"
      ]
     },
     "execution_count": 25,
     "metadata": {},
     "output_type": "execute_result"
    }
   ],
   "source": [
    "df_small = df.copy()\n",
    "df_small['price_per_m2'] = df_small['price']/df_small['flat_area']\n",
    "len(df_small)"
   ]
  },
  {
   "cell_type": "code",
   "execution_count": 26,
   "metadata": {},
   "outputs": [
    {
     "data": {
      "image/png": "[encoded data removed]",
      "text/plain": [
       "<Figure size 432x288 with 1 Axes>"
      ]
     },
     "metadata": {
      "needs_background": "light"
     },
     "output_type": "display_data"
    }
   ],
   "source": [
    "plt.hist(df_small['price_per_m2'])\n",
    "ax = plt.gca()\n",
    "ax.get_xaxis().get_major_formatter().set_scientific(False)\n",
    "plt.show()"
   ]
  },
  {
   "cell_type": "code",
   "execution_count": 27,
   "metadata": {},
   "outputs": [],
   "source": [
    "from collections import Counter\n",
    "from spacy.lang.pl.stop_words import STOP_WORDS"
   ]
  },
  {
   "cell_type": "code",
   "execution_count": 28,
   "metadata": {},
   "outputs": [],
   "source": [
    "small_descriptions = []\n",
    "for desc in df_small['description']:\n",
    "    desc = [x.lower() for x  in desc.split()]\n",
    "    small_descriptions +=  desc\n",
    "\n",
    "to_replace = r'0123456789.,/\\:;-=!@#$%^&*()_+[]{}|'\n",
    "\n",
    "desc_clean = []\n",
    "\n",
    "for token in small_descriptions:\n",
    "    for repl in list(to_replace):\n",
    "        token = token.replace(repl, ' ').strip()\n",
    "\n",
    "    if token not in STOP_WORDS:\n",
    "        desc_clean.append(token)\n",
    "\n",
    "c = Counter(desc_clean)\n",
    "\n"
   ]
  },
  {
   "cell_type": "code",
   "execution_count": 31,
   "metadata": {},
   "outputs": [],
   "source": [
    "# print(c.most_common)"
   ]
  },
  {
   "cell_type": "markdown",
   "metadata": {},
   "source": [
    "# NLP"
   ]
  },
  {
   "cell_type": "code",
   "execution_count": 32,
   "metadata": {},
   "outputs": [
    {
     "ename": "ModuleNotFoundError",
     "evalue": "No module named 'pl_core_news_lg'",
     "output_type": "error",
     "traceback": [
      "\u001b[0;31m---------------------------------------------------------------------------\u001b[0m",
      "\u001b[0;31mModuleNotFoundError\u001b[0m                       Traceback (most recent call last)",
      "\u001b[0;32m/var/folders/ks/mp_12xf14f19rqh4m030fgwhb6ks84/T/ipykernel_85677/3455138300.py\u001b[0m in \u001b[0;36m<module>\u001b[0;34m\u001b[0m\n\u001b[1;32m      1\u001b[0m \u001b[0;32mimport\u001b[0m \u001b[0mspacy\u001b[0m\u001b[0;34m\u001b[0m\u001b[0;34m\u001b[0m\u001b[0m\n\u001b[0;32m----> 2\u001b[0;31m \u001b[0;32mimport\u001b[0m \u001b[0mpl_core_news_lg\u001b[0m\u001b[0;34m\u001b[0m\u001b[0;34m\u001b[0m\u001b[0m\n\u001b[0m\u001b[1;32m      3\u001b[0m \u001b[0;34m\u001b[0m\u001b[0m\n\u001b[1;32m      4\u001b[0m \u001b[0mnlp\u001b[0m \u001b[0;34m=\u001b[0m \u001b[0mpl_core_news_lg\u001b[0m\u001b[0;34m.\u001b[0m\u001b[0mload\u001b[0m\u001b[0;34m(\u001b[0m\u001b[0;34m)\u001b[0m\u001b[0;34m\u001b[0m\u001b[0;34m\u001b[0m\u001b[0m\n\u001b[1;32m      5\u001b[0m \u001b[0;34m\u001b[0m\u001b[0m\n",
      "\u001b[0;31mModuleNotFoundError\u001b[0m: No module named 'pl_core_news_lg'"
     ]
    }
   ],
   "source": [
    "import spacy\n",
    "from spacy.lang.en.examples import sentences \n",
    "\n",
    "nlp = spacy.load(\"pl_core_news_lg\")\n",
    "\n"
   ]
  },
  {
   "cell_type": "code",
   "execution_count": null,
   "metadata": {},
   "outputs": [
    {
     "name": "stdout",
     "output_type": "stream",
     "text": [
      "          price        date  \\\n",
      "6952     520000  2021-01-21   \n",
      "126307   799000  2021-03-18   \n",
      "115055  1630000  2021-03-14   \n",
      "122932   998000  2021-03-17   \n",
      "138941   650000  2021-03-24   \n",
      "\n",
      "                                                    title date_posted  \\\n",
      "6952            3 pokoje, Praga-Południe ul Dwernickiego   2021-01-21   \n",
      "126307               4 pokoje Praga Południe ul. Igańska   2021-03-18   \n",
      "115055             Apartament 110m + taras 60m2 ! OKAZJA   2021-03-14   \n",
      "122932  Mieszkanie Warszawa Śródmieście 60m2 (nr: HH-M...  2021-03-17   \n",
      "138941  Mieszkanie Warszawa Wilanów 51.04m2 (nr: M-971...  2021-03-24   \n",
      "\n",
      "       date_scraped                  location   seller property_type  \\\n",
      "6952     2021-01-21  Praga Południe, Warszawa  Agencja    Mieszkanie   \n",
      "126307   2021-03-18  Praga Południe, Warszawa  Agencja    Mieszkanie   \n",
      "115055   2021-03-14     Śródmieście, Warszawa  Agencja    Mieszkanie   \n",
      "122932   2021-03-17     Śródmieście, Warszawa  Agencja    Mieszkanie   \n",
      "138941   2021-03-24         Wilanów, Warszawa  Agencja    Mieszkanie   \n",
      "\n",
      "        num_rooms  num_bathrooms  flat_area  text  \\\n",
      "6952            3              1         52  Brak   \n",
      "126307          4              1         84  Brak   \n",
      "115055          5              1        109  Brak   \n",
      "122932          3              1         60  Brak   \n",
      "138941          2              1         52  Brak   \n",
      "\n",
      "                                              description  \n",
      "6952    Do sprzedania:\\n\\nMieszkanie zlokalizowane na ...  \n",
      "126307  Do sprzedania:\\n4 pokojowe mieszkanie zlokaliz...  \n",
      "115055  SPRZEDAŻ BEZPOŚREDNIA - BEZ PROWIZJIWyjątkowy ...  \n",
      "122932  Hampton Home prezentuje unikatowe mieszkanie 3...  \n",
      "138941  2 pokojowe mieszkanie w miasteczku Wilanów z b...  \n"
     ]
    }
   ],
   "source": [
    "from sklearn.model_selection import train_test_split\n",
    "\n",
    "\n",
    "train_set, test_set= train_test_split(df, test_size=0.2, random_state=42)\n",
    "# Decision Tree baseline\n",
    "# KNN Regression\n",
    "# Random Forest Regression\n",
    "\n",
    "print(train_set.head())"
   ]
  },
  {
   "cell_type": "code",
   "execution_count": null,
   "metadata": {},
   "outputs": [
    {
     "ename": "ValueError",
     "evalue": "could not convert string to float: '2021-01-21'",
     "output_type": "error",
     "traceback": [
      "\u001b[0;31m---------------------------------------------------------------------------\u001b[0m",
      "\u001b[0;31mValueError\u001b[0m                                Traceback (most recent call last)",
      "\u001b[0;32m/var/folders/6s/dz8bggdn2cvbxr_txvltwrz00000gn/T/ipykernel_3453/4161276917.py\u001b[0m in \u001b[0;36m<module>\u001b[0;34m\u001b[0m\n\u001b[1;32m      3\u001b[0m \u001b[0mregressor\u001b[0m \u001b[0;34m=\u001b[0m \u001b[0mDecisionTreeRegressor\u001b[0m\u001b[0;34m(\u001b[0m\u001b[0mrandom_state\u001b[0m\u001b[0;34m=\u001b[0m\u001b[0;36m0\u001b[0m\u001b[0;34m)\u001b[0m\u001b[0;34m\u001b[0m\u001b[0;34m\u001b[0m\u001b[0m\n\u001b[1;32m      4\u001b[0m \u001b[0;34m\u001b[0m\u001b[0m\n\u001b[0;32m----> 5\u001b[0;31m \u001b[0mregressor\u001b[0m\u001b[0;34m.\u001b[0m\u001b[0mfit\u001b[0m\u001b[0;34m(\u001b[0m\u001b[0mtrain_set\u001b[0m\u001b[0;34m,\u001b[0m \u001b[0mtest_set\u001b[0m\u001b[0;34m)\u001b[0m\u001b[0;34m\u001b[0m\u001b[0;34m\u001b[0m\u001b[0m\n\u001b[0m",
      "\u001b[0;32m~/Documents/projects/warsaw-real-estate-analysis/venv/lib/python3.9/site-packages/sklearn/tree/_classes.py\u001b[0m in \u001b[0;36mfit\u001b[0;34m(self, X, y, sample_weight, check_input, X_idx_sorted)\u001b[0m\n\u001b[1;32m   1250\u001b[0m         \"\"\"\n\u001b[1;32m   1251\u001b[0m \u001b[0;34m\u001b[0m\u001b[0m\n\u001b[0;32m-> 1252\u001b[0;31m         super().fit(\n\u001b[0m\u001b[1;32m   1253\u001b[0m             \u001b[0mX\u001b[0m\u001b[0;34m,\u001b[0m \u001b[0my\u001b[0m\u001b[0;34m,\u001b[0m\u001b[0;34m\u001b[0m\u001b[0;34m\u001b[0m\u001b[0m\n\u001b[1;32m   1254\u001b[0m             \u001b[0msample_weight\u001b[0m\u001b[0;34m=\u001b[0m\u001b[0msample_weight\u001b[0m\u001b[0;34m,\u001b[0m\u001b[0;34m\u001b[0m\u001b[0;34m\u001b[0m\u001b[0m\n",
      "\u001b[0;32m~/Documents/projects/warsaw-real-estate-analysis/venv/lib/python3.9/site-packages/sklearn/tree/_classes.py\u001b[0m in \u001b[0;36mfit\u001b[0;34m(self, X, y, sample_weight, check_input, X_idx_sorted)\u001b[0m\n\u001b[1;32m    155\u001b[0m             \u001b[0mcheck_X_params\u001b[0m \u001b[0;34m=\u001b[0m \u001b[0mdict\u001b[0m\u001b[0;34m(\u001b[0m\u001b[0mdtype\u001b[0m\u001b[0;34m=\u001b[0m\u001b[0mDTYPE\u001b[0m\u001b[0;34m,\u001b[0m \u001b[0maccept_sparse\u001b[0m\u001b[0;34m=\u001b[0m\u001b[0;34m\"csc\"\u001b[0m\u001b[0;34m)\u001b[0m\u001b[0;34m\u001b[0m\u001b[0;34m\u001b[0m\u001b[0m\n\u001b[1;32m    156\u001b[0m             \u001b[0mcheck_y_params\u001b[0m \u001b[0;34m=\u001b[0m \u001b[0mdict\u001b[0m\u001b[0;34m(\u001b[0m\u001b[0mensure_2d\u001b[0m\u001b[0;34m=\u001b[0m\u001b[0;32mFalse\u001b[0m\u001b[0;34m,\u001b[0m \u001b[0mdtype\u001b[0m\u001b[0;34m=\u001b[0m\u001b[0;32mNone\u001b[0m\u001b[0;34m)\u001b[0m\u001b[0;34m\u001b[0m\u001b[0;34m\u001b[0m\u001b[0m\n\u001b[0;32m--> 157\u001b[0;31m             X, y = self._validate_data(X, y,\n\u001b[0m\u001b[1;32m    158\u001b[0m                                        validate_separately=(check_X_params,\n\u001b[1;32m    159\u001b[0m                                                             check_y_params))\n",
      "\u001b[0;32m~/Documents/projects/warsaw-real-estate-analysis/venv/lib/python3.9/site-packages/sklearn/base.py\u001b[0m in \u001b[0;36m_validate_data\u001b[0;34m(self, X, y, reset, validate_separately, **check_params)\u001b[0m\n\u001b[1;32m    428\u001b[0m                 \u001b[0;31m# :(\u001b[0m\u001b[0;34m\u001b[0m\u001b[0;34m\u001b[0m\u001b[0;34m\u001b[0m\u001b[0m\n\u001b[1;32m    429\u001b[0m                 \u001b[0mcheck_X_params\u001b[0m\u001b[0;34m,\u001b[0m \u001b[0mcheck_y_params\u001b[0m \u001b[0;34m=\u001b[0m \u001b[0mvalidate_separately\u001b[0m\u001b[0;34m\u001b[0m\u001b[0;34m\u001b[0m\u001b[0m\n\u001b[0;32m--> 430\u001b[0;31m                 \u001b[0mX\u001b[0m \u001b[0;34m=\u001b[0m \u001b[0mcheck_array\u001b[0m\u001b[0;34m(\u001b[0m\u001b[0mX\u001b[0m\u001b[0;34m,\u001b[0m \u001b[0;34m**\u001b[0m\u001b[0mcheck_X_params\u001b[0m\u001b[0;34m)\u001b[0m\u001b[0;34m\u001b[0m\u001b[0;34m\u001b[0m\u001b[0m\n\u001b[0m\u001b[1;32m    431\u001b[0m                 \u001b[0my\u001b[0m \u001b[0;34m=\u001b[0m \u001b[0mcheck_array\u001b[0m\u001b[0;34m(\u001b[0m\u001b[0my\u001b[0m\u001b[0;34m,\u001b[0m \u001b[0;34m**\u001b[0m\u001b[0mcheck_y_params\u001b[0m\u001b[0;34m)\u001b[0m\u001b[0;34m\u001b[0m\u001b[0;34m\u001b[0m\u001b[0m\n\u001b[1;32m    432\u001b[0m             \u001b[0;32melse\u001b[0m\u001b[0;34m:\u001b[0m\u001b[0;34m\u001b[0m\u001b[0;34m\u001b[0m\u001b[0m\n",
      "\u001b[0;32m~/Documents/projects/warsaw-real-estate-analysis/venv/lib/python3.9/site-packages/sklearn/utils/validation.py\u001b[0m in \u001b[0;36minner_f\u001b[0;34m(*args, **kwargs)\u001b[0m\n\u001b[1;32m     61\u001b[0m             \u001b[0mextra_args\u001b[0m \u001b[0;34m=\u001b[0m \u001b[0mlen\u001b[0m\u001b[0;34m(\u001b[0m\u001b[0margs\u001b[0m\u001b[0;34m)\u001b[0m \u001b[0;34m-\u001b[0m \u001b[0mlen\u001b[0m\u001b[0;34m(\u001b[0m\u001b[0mall_args\u001b[0m\u001b[0;34m)\u001b[0m\u001b[0;34m\u001b[0m\u001b[0;34m\u001b[0m\u001b[0m\n\u001b[1;32m     62\u001b[0m             \u001b[0;32mif\u001b[0m \u001b[0mextra_args\u001b[0m \u001b[0;34m<=\u001b[0m \u001b[0;36m0\u001b[0m\u001b[0;34m:\u001b[0m\u001b[0;34m\u001b[0m\u001b[0;34m\u001b[0m\u001b[0m\n\u001b[0;32m---> 63\u001b[0;31m                 \u001b[0;32mreturn\u001b[0m \u001b[0mf\u001b[0m\u001b[0;34m(\u001b[0m\u001b[0;34m*\u001b[0m\u001b[0margs\u001b[0m\u001b[0;34m,\u001b[0m \u001b[0;34m**\u001b[0m\u001b[0mkwargs\u001b[0m\u001b[0;34m)\u001b[0m\u001b[0;34m\u001b[0m\u001b[0;34m\u001b[0m\u001b[0m\n\u001b[0m\u001b[1;32m     64\u001b[0m \u001b[0;34m\u001b[0m\u001b[0m\n\u001b[1;32m     65\u001b[0m             \u001b[0;31m# extra_args > 0\u001b[0m\u001b[0;34m\u001b[0m\u001b[0;34m\u001b[0m\u001b[0;34m\u001b[0m\u001b[0m\n",
      "\u001b[0;32m~/Documents/projects/warsaw-real-estate-analysis/venv/lib/python3.9/site-packages/sklearn/utils/validation.py\u001b[0m in \u001b[0;36mcheck_array\u001b[0;34m(array, accept_sparse, accept_large_sparse, dtype, order, copy, force_all_finite, ensure_2d, allow_nd, ensure_min_samples, ensure_min_features, estimator)\u001b[0m\n\u001b[1;32m    671\u001b[0m                     \u001b[0marray\u001b[0m \u001b[0;34m=\u001b[0m \u001b[0marray\u001b[0m\u001b[0;34m.\u001b[0m\u001b[0mastype\u001b[0m\u001b[0;34m(\u001b[0m\u001b[0mdtype\u001b[0m\u001b[0;34m,\u001b[0m \u001b[0mcasting\u001b[0m\u001b[0;34m=\u001b[0m\u001b[0;34m\"unsafe\"\u001b[0m\u001b[0;34m,\u001b[0m \u001b[0mcopy\u001b[0m\u001b[0;34m=\u001b[0m\u001b[0;32mFalse\u001b[0m\u001b[0;34m)\u001b[0m\u001b[0;34m\u001b[0m\u001b[0;34m\u001b[0m\u001b[0m\n\u001b[1;32m    672\u001b[0m                 \u001b[0;32melse\u001b[0m\u001b[0;34m:\u001b[0m\u001b[0;34m\u001b[0m\u001b[0;34m\u001b[0m\u001b[0m\n\u001b[0;32m--> 673\u001b[0;31m                     \u001b[0marray\u001b[0m \u001b[0;34m=\u001b[0m \u001b[0mnp\u001b[0m\u001b[0;34m.\u001b[0m\u001b[0masarray\u001b[0m\u001b[0;34m(\u001b[0m\u001b[0marray\u001b[0m\u001b[0;34m,\u001b[0m \u001b[0morder\u001b[0m\u001b[0;34m=\u001b[0m\u001b[0morder\u001b[0m\u001b[0;34m,\u001b[0m \u001b[0mdtype\u001b[0m\u001b[0;34m=\u001b[0m\u001b[0mdtype\u001b[0m\u001b[0;34m)\u001b[0m\u001b[0;34m\u001b[0m\u001b[0;34m\u001b[0m\u001b[0m\n\u001b[0m\u001b[1;32m    674\u001b[0m             \u001b[0;32mexcept\u001b[0m \u001b[0mComplexWarning\u001b[0m \u001b[0;32mas\u001b[0m \u001b[0mcomplex_warning\u001b[0m\u001b[0;34m:\u001b[0m\u001b[0;34m\u001b[0m\u001b[0;34m\u001b[0m\u001b[0m\n\u001b[1;32m    675\u001b[0m                 raise ValueError(\"Complex data not supported\\n\"\n",
      "\u001b[0;32m~/Documents/projects/warsaw-real-estate-analysis/venv/lib/python3.9/site-packages/pandas/core/generic.py\u001b[0m in \u001b[0;36m__array__\u001b[0;34m(self, dtype)\u001b[0m\n\u001b[1;32m   1991\u001b[0m \u001b[0;34m\u001b[0m\u001b[0m\n\u001b[1;32m   1992\u001b[0m     \u001b[0;32mdef\u001b[0m \u001b[0m__array__\u001b[0m\u001b[0;34m(\u001b[0m\u001b[0mself\u001b[0m\u001b[0;34m,\u001b[0m \u001b[0mdtype\u001b[0m\u001b[0;34m:\u001b[0m \u001b[0mNpDtype\u001b[0m \u001b[0;34m|\u001b[0m \u001b[0;32mNone\u001b[0m \u001b[0;34m=\u001b[0m \u001b[0;32mNone\u001b[0m\u001b[0;34m)\u001b[0m \u001b[0;34m->\u001b[0m \u001b[0mnp\u001b[0m\u001b[0;34m.\u001b[0m\u001b[0mndarray\u001b[0m\u001b[0;34m:\u001b[0m\u001b[0;34m\u001b[0m\u001b[0;34m\u001b[0m\u001b[0m\n\u001b[0;32m-> 1993\u001b[0;31m         \u001b[0;32mreturn\u001b[0m \u001b[0mnp\u001b[0m\u001b[0;34m.\u001b[0m\u001b[0masarray\u001b[0m\u001b[0;34m(\u001b[0m\u001b[0mself\u001b[0m\u001b[0;34m.\u001b[0m\u001b[0m_values\u001b[0m\u001b[0;34m,\u001b[0m \u001b[0mdtype\u001b[0m\u001b[0;34m=\u001b[0m\u001b[0mdtype\u001b[0m\u001b[0;34m)\u001b[0m\u001b[0;34m\u001b[0m\u001b[0;34m\u001b[0m\u001b[0m\n\u001b[0m\u001b[1;32m   1994\u001b[0m \u001b[0;34m\u001b[0m\u001b[0m\n\u001b[1;32m   1995\u001b[0m     def __array_wrap__(\n",
      "\u001b[0;31mValueError\u001b[0m: could not convert string to float: '2021-01-21'"
     ]
    }
   ],
   "source": [
    "from sklearn.tree import DecisionTreeRegressor\n",
    "\n",
    "regressor = DecisionTreeRegressor(random_state=0)\n",
    "\n",
    "regressor.fit(train_set, test_set)\n"
   ]
  },
  {
   "cell_type": "code",
   "execution_count": null,
   "metadata": {},
   "outputs": [],
   "source": []
  }
 ],
 "metadata": {
  "interpreter": {
   "hash": "67d4356db97b32f6b5ce540722b64a68035df5829966fcf9701b23ce43dc1103"
  },
  "kernelspec": {
   "display_name": "Python 3.9.6 64-bit ('venv': venv)",
   "name": "python3"
  },
  "language_info": {
   "codemirror_mode": {
    "name": "ipython",
    "version": 3
   },
   "file_extension": ".py",
   "mimetype": "text/x-python",
   "name": "python",
   "nbconvert_exporter": "python",
   "pygments_lexer": "ipython3",
   "version": "3.9.2"
  },
  "orig_nbformat": 4
 },
 "nbformat": 4,
 "nbformat_minor": 2
}
